{
 "cells": [
  {
   "cell_type": "code",
   "execution_count": 1,
   "metadata": {},
   "outputs": [],
   "source": [
    "from sklearn import model_selection, preprocessing, naive_bayes, metrics, svm\n",
    "from sklearn.feature_extraction.text import CountVectorizer\n",
    "from sklearn import ensemble\n",
    "import pandas as pd, numpy as np"
   ]
  },
  {
   "cell_type": "code",
   "execution_count": 2,
   "metadata": {},
   "outputs": [
    {
     "name": "stdout",
     "output_type": "stream",
     "text": [
      "Training data shape:  (1089, 18)\n"
     ]
    }
   ],
   "source": [
    "train=pd.read_csv(\"C:\\\\Users\\\\Alex\\\\Downloads\\\\all2\\\\train.csv\")\n",
    "print('Training data shape: ',train.shape)"
   ]
  },
  {
   "cell_type": "code",
   "execution_count": 3,
   "metadata": {},
   "outputs": [],
   "source": [
    "train=train[['text','label']]"
   ]
  },
  {
   "cell_type": "code",
   "execution_count": 4,
   "metadata": {},
   "outputs": [],
   "source": [
    "#Split training into training and validation set\n",
    "train_x, valid_x, train_y, valid_y = model_selection.train_test_split(train['text'], train['label'])"
   ]
  },
  {
   "cell_type": "code",
   "execution_count": 15,
   "metadata": {},
   "outputs": [],
   "source": [
    "#Use a count vectorizer to process the text data\n",
    "count_vect1 = CountVectorizer(analyzer='word', token_pattern=r'\\w{1,}')\n",
    "count_vect1.fit(train['text'])\n",
    "\n",
    "xtrain_count =  count_vect1.transform(train_x)\n",
    "xvalid_count =  count_vect1.transform(valid_x)"
   ]
  },
  {
   "cell_type": "code",
   "execution_count": 16,
   "metadata": {},
   "outputs": [],
   "source": [
    "def getAccuracy(classifier,train, label, validation):\n",
    "    \n",
    "    classifier.fit(train, label)\n",
    "    predictions = classifier.predict(validation)\n",
    "    \n",
    "    return metrics.accuracy_score(predictions, valid_y)"
   ]
  },
  {
   "cell_type": "code",
   "execution_count": 22,
   "metadata": {},
   "outputs": [
    {
     "name": "stdout",
     "output_type": "stream",
     "text": [
      "0.8278388278388278\n"
     ]
    }
   ],
   "source": [
    "#Accuracy of Naive Bayes on validation set\n",
    "accuracyNB = getAccuracy(naive_bayes.MultinomialNB(), xtrain_count, train_y, xvalid_count)\n",
    "print (accuracyNB)"
   ]
  },
  {
   "cell_type": "code",
   "execution_count": 20,
   "metadata": {},
   "outputs": [
    {
     "name": "stdout",
     "output_type": "stream",
     "text": [
      "0.6593406593406593\n"
     ]
    },
    {
     "name": "stderr",
     "output_type": "stream",
     "text": [
      "C:\\Users\\Alex\\AppData\\Local\\Continuum\\anaconda3\\lib\\site-packages\\sklearn\\svm\\base.py:196: FutureWarning: The default value of gamma will change from 'auto' to 'scale' in version 0.22 to account better for unscaled features. Set gamma explicitly to 'auto' or 'scale' to avoid this warning.\n",
      "  \"avoid this warning.\", FutureWarning)\n"
     ]
    }
   ],
   "source": [
    "#Accuracy of SVM on validation set\n",
    "accuracySVM = getAccuracy(svm.SVC(), xtrain_count, train_y, xvalid_count)\n",
    "print (accuracySVM)"
   ]
  },
  {
   "cell_type": "code",
   "execution_count": 21,
   "metadata": {},
   "outputs": [
    {
     "name": "stdout",
     "output_type": "stream",
     "text": [
      "0.8351648351648352\n"
     ]
    },
    {
     "name": "stderr",
     "output_type": "stream",
     "text": [
      "C:\\Users\\Alex\\AppData\\Local\\Continuum\\anaconda3\\lib\\site-packages\\sklearn\\ensemble\\forest.py:246: FutureWarning: The default value of n_estimators will change from 10 in version 0.20 to 100 in 0.22.\n",
      "  \"10 in version 0.20 to 100 in 0.22.\", FutureWarning)\n"
     ]
    }
   ],
   "source": [
    "#Accuracy of Random Forest on validation set\n",
    "accuracyRF = getAccuracy(ensemble.RandomForestClassifier(), xtrain_count, train_y, xvalid_count)\n",
    "print (accuracyRF)"
   ]
  },
  {
   "cell_type": "code",
   "execution_count": null,
   "metadata": {},
   "outputs": [],
   "source": [
    "#Use GridSearch to find optimal parameters for RF\n",
    "from sklearn.model_selection import GridSearchCV\n",
    "parameters={'n_estimators':[100,500,1000],'max_features':('sqrt','log2',None)}\n",
    "rf=ensemble.RandomForestClassifier()\n",
    "clf=GridSearchCV(rf,parameters,cv=5)\n",
    "clf.fit(total_count,train['label'])\n",
    "clf.best_estimator_"
   ]
  },
  {
   "cell_type": "code",
   "execution_count": 10,
   "metadata": {},
   "outputs": [
    {
     "data": {
      "text/plain": [
       "(1389,)"
      ]
     },
     "execution_count": 10,
     "metadata": {},
     "output_type": "execute_result"
    }
   ],
   "source": [
    "test=pd.read_csv(\"C:\\\\Users\\\\Alex\\\\Downloads\\\\all2\\\\test.csv\")\n",
    "traintestcombined=train['text'].append(test['text'])"
   ]
  },
  {
   "cell_type": "code",
   "execution_count": 55,
   "metadata": {},
   "outputs": [
    {
     "name": "stdout",
     "output_type": "stream",
     "text": [
      "(1089, 4201)\n",
      "(300, 4201)\n"
     ]
    }
   ],
   "source": [
    "#Count vectorizer to transform entire training set\n",
    "count_vect2 = CountVectorizer(analyzer='word', token_pattern=r'\\w{1,}')\n",
    "count_vect2.fit(traintestcombined)\n",
    "\n",
    "xtrainfinal =  count_vect2.transform(train['text'])\n",
    "xtestfinal =  count_vect2.transform(test['text'])"
   ]
  },
  {
   "cell_type": "code",
   "execution_count": 56,
   "metadata": {},
   "outputs": [],
   "source": [
    "rf=ensemble.RandomForestClassifier(n_estimators=1000).fit(xtrainfinal,train['label'])"
   ]
  },
  {
   "cell_type": "code",
   "execution_count": 57,
   "metadata": {},
   "outputs": [],
   "source": [
    "predictions2 = rf.predict(xtestfinal)"
   ]
  },
  {
   "cell_type": "code",
   "execution_count": 58,
   "metadata": {},
   "outputs": [],
   "source": [
    "submit2=pd.DataFrame()\n",
    "submit2['ID'] = test['id']\n",
    "submit2['Label'] = predictions2\n",
    "\n",
    "submit2.to_csv('4780RF.csv', index = False)"
   ]
  }
 ],
 "metadata": {
  "kernelspec": {
   "display_name": "Python 3",
   "language": "python",
   "name": "python3"
  },
  "language_info": {
   "codemirror_mode": {
    "name": "ipython",
    "version": 3
   },
   "file_extension": ".py",
   "mimetype": "text/x-python",
   "name": "python",
   "nbconvert_exporter": "python",
   "pygments_lexer": "ipython3",
   "version": "3.6.5"
  }
 },
 "nbformat": 4,
 "nbformat_minor": 2
}
