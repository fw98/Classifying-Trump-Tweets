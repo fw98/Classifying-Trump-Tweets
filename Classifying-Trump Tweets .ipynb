{
 "cells": [
  {
   "cell_type": "code",
   "execution_count": 24,
   "metadata": {},
   "outputs": [],
   "source": [
    "from sklearn import model_selection, preprocessing, naive_bayes, metrics, svm\n",
    "from sklearn.feature_extraction.text import CountVectorizer\n",
    "from sklearn import ensemble\n",
    "import matplotlib.pyplot as plt\n",
    "import pandas as pd, numpy as np"
   ]
  },
  {
   "cell_type": "code",
   "execution_count": 25,
   "metadata": {},
   "outputs": [
    {
     "name": "stdout",
     "output_type": "stream",
     "text": [
      "Training data shape:  (1089, 18)\n"
     ]
    },
    {
     "data": {
      "text/html": [
       "<div>\n",
       "<style scoped>\n",
       "    .dataframe tbody tr th:only-of-type {\n",
       "        vertical-align: middle;\n",
       "    }\n",
       "\n",
       "    .dataframe tbody tr th {\n",
       "        vertical-align: top;\n",
       "    }\n",
       "\n",
       "    .dataframe thead th {\n",
       "        text-align: right;\n",
       "    }\n",
       "</style>\n",
       "<table border=\"1\" class=\"dataframe\">\n",
       "  <thead>\n",
       "    <tr style=\"text-align: right;\">\n",
       "      <th></th>\n",
       "      <th>id</th>\n",
       "      <th>text</th>\n",
       "      <th>favorited</th>\n",
       "      <th>favoriteCount</th>\n",
       "      <th>replyToSN</th>\n",
       "      <th>created</th>\n",
       "      <th>truncated</th>\n",
       "      <th>replyToSID</th>\n",
       "      <th>id.1</th>\n",
       "      <th>replyToUID</th>\n",
       "      <th>statusSource</th>\n",
       "      <th>screenName</th>\n",
       "      <th>retweetCount</th>\n",
       "      <th>isRetweet</th>\n",
       "      <th>retweeted</th>\n",
       "      <th>longitude</th>\n",
       "      <th>latitude</th>\n",
       "      <th>label</th>\n",
       "    </tr>\n",
       "  </thead>\n",
       "  <tbody>\n",
       "    <tr>\n",
       "      <th>0</th>\n",
       "      <td>0</td>\n",
       "      <td>Senior United States District Judge Robert E. ...</td>\n",
       "      <td>False</td>\n",
       "      <td>14207</td>\n",
       "      <td>NaN</td>\n",
       "      <td>7/12/16 0:56</td>\n",
       "      <td>False</td>\n",
       "      <td>NaN</td>\n",
       "      <td>7.526680e+17</td>\n",
       "      <td>NaN</td>\n",
       "      <td>&lt;a href=\"http://twitter.com/download/iphone\" r...</td>\n",
       "      <td>realDonaldTrump</td>\n",
       "      <td>5256</td>\n",
       "      <td>False</td>\n",
       "      <td>False</td>\n",
       "      <td>NaN</td>\n",
       "      <td>NaN</td>\n",
       "      <td>-1</td>\n",
       "    </tr>\n",
       "    <tr>\n",
       "      <th>1</th>\n",
       "      <td>1</td>\n",
       "      <td>Speech on Veterans' Reform:  https://t.co/XB7R...</td>\n",
       "      <td>False</td>\n",
       "      <td>9666</td>\n",
       "      <td>NaN</td>\n",
       "      <td>7/11/16 22:18</td>\n",
       "      <td>False</td>\n",
       "      <td>NaN</td>\n",
       "      <td>7.526280e+17</td>\n",
       "      <td>NaN</td>\n",
       "      <td>&lt;a href=\"http://twitter.com/download/iphone\" r...</td>\n",
       "      <td>realDonaldTrump</td>\n",
       "      <td>3432</td>\n",
       "      <td>False</td>\n",
       "      <td>False</td>\n",
       "      <td>NaN</td>\n",
       "      <td>NaN</td>\n",
       "      <td>-1</td>\n",
       "    </tr>\n",
       "    <tr>\n",
       "      <th>2</th>\n",
       "      <td>2</td>\n",
       "      <td>Great poll- Florida! Thank you! https://t.co/4...</td>\n",
       "      <td>False</td>\n",
       "      <td>25531</td>\n",
       "      <td>NaN</td>\n",
       "      <td>7/11/16 21:40</td>\n",
       "      <td>False</td>\n",
       "      <td>NaN</td>\n",
       "      <td>7.526190e+17</td>\n",
       "      <td>NaN</td>\n",
       "      <td>&lt;a href=\"http://twitter.com/download/iphone\" r...</td>\n",
       "      <td>realDonaldTrump</td>\n",
       "      <td>8810</td>\n",
       "      <td>False</td>\n",
       "      <td>False</td>\n",
       "      <td>NaN</td>\n",
       "      <td>NaN</td>\n",
       "      <td>-1</td>\n",
       "    </tr>\n",
       "    <tr>\n",
       "      <th>3</th>\n",
       "      <td>3</td>\n",
       "      <td>Thoughts and prayers with the victims; and the...</td>\n",
       "      <td>False</td>\n",
       "      <td>28850</td>\n",
       "      <td>NaN</td>\n",
       "      <td>7/11/16 19:51</td>\n",
       "      <td>False</td>\n",
       "      <td>NaN</td>\n",
       "      <td>7.525910e+17</td>\n",
       "      <td>NaN</td>\n",
       "      <td>&lt;a href=\"http://twitter.com/download/iphone\" r...</td>\n",
       "      <td>realDonaldTrump</td>\n",
       "      <td>9112</td>\n",
       "      <td>False</td>\n",
       "      <td>False</td>\n",
       "      <td>NaN</td>\n",
       "      <td>NaN</td>\n",
       "      <td>-1</td>\n",
       "    </tr>\n",
       "    <tr>\n",
       "      <th>4</th>\n",
       "      <td>4</td>\n",
       "      <td>Join me in Westfield; Indiana- tomorrow night ...</td>\n",
       "      <td>False</td>\n",
       "      <td>12567</td>\n",
       "      <td>NaN</td>\n",
       "      <td>7/11/16 11:57</td>\n",
       "      <td>False</td>\n",
       "      <td>NaN</td>\n",
       "      <td>7.524720e+17</td>\n",
       "      <td>NaN</td>\n",
       "      <td>&lt;a href=\"http://twitter.com/download/iphone\" r...</td>\n",
       "      <td>realDonaldTrump</td>\n",
       "      <td>4144</td>\n",
       "      <td>False</td>\n",
       "      <td>False</td>\n",
       "      <td>NaN</td>\n",
       "      <td>NaN</td>\n",
       "      <td>-1</td>\n",
       "    </tr>\n",
       "  </tbody>\n",
       "</table>\n",
       "</div>"
      ],
      "text/plain": [
       "   id                                               text  favorited  \\\n",
       "0   0  Senior United States District Judge Robert E. ...      False   \n",
       "1   1  Speech on Veterans' Reform:  https://t.co/XB7R...      False   \n",
       "2   2  Great poll- Florida! Thank you! https://t.co/4...      False   \n",
       "3   3  Thoughts and prayers with the victims; and the...      False   \n",
       "4   4  Join me in Westfield; Indiana- tomorrow night ...      False   \n",
       "\n",
       "   favoriteCount replyToSN        created  truncated  replyToSID  \\\n",
       "0          14207       NaN   7/12/16 0:56      False         NaN   \n",
       "1           9666       NaN  7/11/16 22:18      False         NaN   \n",
       "2          25531       NaN  7/11/16 21:40      False         NaN   \n",
       "3          28850       NaN  7/11/16 19:51      False         NaN   \n",
       "4          12567       NaN  7/11/16 11:57      False         NaN   \n",
       "\n",
       "           id.1  replyToUID  \\\n",
       "0  7.526680e+17         NaN   \n",
       "1  7.526280e+17         NaN   \n",
       "2  7.526190e+17         NaN   \n",
       "3  7.525910e+17         NaN   \n",
       "4  7.524720e+17         NaN   \n",
       "\n",
       "                                        statusSource       screenName  \\\n",
       "0  <a href=\"http://twitter.com/download/iphone\" r...  realDonaldTrump   \n",
       "1  <a href=\"http://twitter.com/download/iphone\" r...  realDonaldTrump   \n",
       "2  <a href=\"http://twitter.com/download/iphone\" r...  realDonaldTrump   \n",
       "3  <a href=\"http://twitter.com/download/iphone\" r...  realDonaldTrump   \n",
       "4  <a href=\"http://twitter.com/download/iphone\" r...  realDonaldTrump   \n",
       "\n",
       "   retweetCount  isRetweet  retweeted  longitude  latitude  label  \n",
       "0          5256      False      False        NaN       NaN     -1  \n",
       "1          3432      False      False        NaN       NaN     -1  \n",
       "2          8810      False      False        NaN       NaN     -1  \n",
       "3          9112      False      False        NaN       NaN     -1  \n",
       "4          4144      False      False        NaN       NaN     -1  "
      ]
     },
     "execution_count": 25,
     "metadata": {},
     "output_type": "execute_result"
    }
   ],
   "source": [
    "train=pd.read_csv(\"C:\\\\Users\\\\Alex\\\\Downloads\\\\all2\\\\train.csv\")\n",
    "print('Training data shape: ',train.shape)\n",
    "train.head()"
   ]
  },
  {
   "cell_type": "code",
   "execution_count": 26,
   "metadata": {},
   "outputs": [
    {
     "data": {
      "image/png": "[encoded data removed]",
      "text/plain": [
       "<Figure size 432x288 with 1 Axes>"
      ]
     },
     "metadata": {},
     "output_type": "display_data"
    }
   ],
   "source": [
    "#Plot the number of tweets with iPhone in the training, to get an idea for baseline during validation\n",
    "\n",
    "iphonetweets=(train['label']==-1).sum()\n",
    "androidtweets=(train['label']==1).sum()\n",
    "tweetcounts=[iphonetweets,androidtweets]\n",
    "objects=('iPhone', 'Android')\n",
    "x_axis=np.arange(len(objects))\n",
    "plt.bar(x_axis,tweetcounts,align='center',alpha=0.5)\n",
    "plt.xticks(x_axis, objects)\n",
    "plt.ylabel('Usage')\n",
    "plt.title('Number of Tweets')\n",
    "plt.show()"
   ]
  },
  {
   "cell_type": "code",
   "execution_count": 27,
   "metadata": {},
   "outputs": [
    {
     "data": {
      "text/html": [
       "<div>\n",
       "<style scoped>\n",
       "    .dataframe tbody tr th:only-of-type {\n",
       "        vertical-align: middle;\n",
       "    }\n",
       "\n",
       "    .dataframe tbody tr th {\n",
       "        vertical-align: top;\n",
       "    }\n",
       "\n",
       "    .dataframe thead th {\n",
       "        text-align: right;\n",
       "    }\n",
       "</style>\n",
       "<table border=\"1\" class=\"dataframe\">\n",
       "  <thead>\n",
       "    <tr style=\"text-align: right;\">\n",
       "      <th></th>\n",
       "      <th>text</th>\n",
       "      <th>label</th>\n",
       "    </tr>\n",
       "  </thead>\n",
       "  <tbody>\n",
       "    <tr>\n",
       "      <th>0</th>\n",
       "      <td>Senior United States District Judge Robert E. ...</td>\n",
       "      <td>-1</td>\n",
       "    </tr>\n",
       "    <tr>\n",
       "      <th>1</th>\n",
       "      <td>Speech on Veterans' Reform:  https://t.co/XB7R...</td>\n",
       "      <td>-1</td>\n",
       "    </tr>\n",
       "    <tr>\n",
       "      <th>2</th>\n",
       "      <td>Great poll- Florida! Thank you! https://t.co/4...</td>\n",
       "      <td>-1</td>\n",
       "    </tr>\n",
       "    <tr>\n",
       "      <th>3</th>\n",
       "      <td>Thoughts and prayers with the victims; and the...</td>\n",
       "      <td>-1</td>\n",
       "    </tr>\n",
       "    <tr>\n",
       "      <th>4</th>\n",
       "      <td>Join me in Westfield; Indiana- tomorrow night ...</td>\n",
       "      <td>-1</td>\n",
       "    </tr>\n",
       "  </tbody>\n",
       "</table>\n",
       "</div>"
      ],
      "text/plain": [
       "                                                text  label\n",
       "0  Senior United States District Judge Robert E. ...     -1\n",
       "1  Speech on Veterans' Reform:  https://t.co/XB7R...     -1\n",
       "2  Great poll- Florida! Thank you! https://t.co/4...     -1\n",
       "3  Thoughts and prayers with the victims; and the...     -1\n",
       "4  Join me in Westfield; Indiana- tomorrow night ...     -1"
      ]
     },
     "execution_count": 27,
     "metadata": {},
     "output_type": "execute_result"
    }
   ],
   "source": [
    "#Isolate the text\n",
    "train=train[['text','label']]\n",
    "train.head()"
   ]
  },
  {
   "cell_type": "code",
   "execution_count": 28,
   "metadata": {},
   "outputs": [],
   "source": [
    "#Split training into training and validation set\n",
    "train_x, valid_x, train_y, valid_y = model_selection.train_test_split(train['text'], train['label'])"
   ]
  },
  {
   "cell_type": "code",
   "execution_count": 29,
   "metadata": {},
   "outputs": [],
   "source": [
    "#Use a count vectorizer to process the text data\n",
    "count_vect1 = CountVectorizer(analyzer='word', token_pattern=r'\\w{1,}')\n",
    "count_vect1.fit(train['text'])\n",
    "\n",
    "xtrain_count =  count_vect1.transform(train_x)\n",
    "xvalid_count =  count_vect1.transform(valid_x)"
   ]
  },
  {
   "cell_type": "code",
   "execution_count": 30,
   "metadata": {},
   "outputs": [],
   "source": [
    "def getAccuracy(classifier,train, label, validation):\n",
    "    \n",
    "    classifier.fit(train, label)\n",
    "    predictions = classifier.predict(validation)\n",
    "    \n",
    "    return metrics.accuracy_score(predictions, valid_y)"
   ]
  },
  {
   "cell_type": "code",
   "execution_count": 31,
   "metadata": {},
   "outputs": [
    {
     "name": "stdout",
     "output_type": "stream",
     "text": [
      "0.8534798534798534\n"
     ]
    }
   ],
   "source": [
    "#Accuracy of Naive Bayes on validation set\n",
    "accuracyNB = getAccuracy(naive_bayes.MultinomialNB(), xtrain_count, train_y, xvalid_count)\n",
    "print (accuracyNB)"
   ]
  },
  {
   "cell_type": "code",
   "execution_count": 32,
   "metadata": {},
   "outputs": [
    {
     "name": "stdout",
     "output_type": "stream",
     "text": [
      "0.6593406593406593\n"
     ]
    },
    {
     "name": "stderr",
     "output_type": "stream",
     "text": [
      "C:\\Users\\Alex\\AppData\\Local\\Continuum\\anaconda3\\lib\\site-packages\\sklearn\\svm\\base.py:196: FutureWarning: The default value of gamma will change from 'auto' to 'scale' in version 0.22 to account better for unscaled features. Set gamma explicitly to 'auto' or 'scale' to avoid this warning.\n",
      "  \"avoid this warning.\", FutureWarning)\n"
     ]
    }
   ],
   "source": [
    "#Accuracy of SVM on validation set\n",
    "accuracySVM = getAccuracy(svm.SVC(), xtrain_count, train_y, xvalid_count)\n",
    "print (accuracySVM)"
   ]
  },
  {
   "cell_type": "code",
   "execution_count": 33,
   "metadata": {},
   "outputs": [
    {
     "name": "stdout",
     "output_type": "stream",
     "text": [
      "0.8717948717948718\n"
     ]
    },
    {
     "name": "stderr",
     "output_type": "stream",
     "text": [
      "C:\\Users\\Alex\\AppData\\Local\\Continuum\\anaconda3\\lib\\site-packages\\sklearn\\ensemble\\forest.py:246: FutureWarning: The default value of n_estimators will change from 10 in version 0.20 to 100 in 0.22.\n",
      "  \"10 in version 0.20 to 100 in 0.22.\", FutureWarning)\n"
     ]
    }
   ],
   "source": [
    "#Accuracy of Random Forest on validation set\n",
    "accuracyRF = getAccuracy(ensemble.RandomForestClassifier(), xtrain_count, train_y, xvalid_count)\n",
    "print (accuracyRF)"
   ]
  },
  {
   "cell_type": "code",
   "execution_count": 35,
   "metadata": {},
   "outputs": [],
   "source": [
    "test=pd.read_csv(\"C:\\\\Users\\\\Alex\\\\Downloads\\\\all2\\\\test.csv\")\n",
    "traintestcombined=train['text'].append(test['text'])"
   ]
  },
  {
   "cell_type": "code",
   "execution_count": 36,
   "metadata": {},
   "outputs": [],
   "source": [
    "#Count vectorizer to transform entire training set\n",
    "count_vect2 = CountVectorizer(analyzer='word', token_pattern=r'\\w{1,}')\n",
    "count_vect2.fit(traintestcombined)\n",
    "\n",
    "xtrainfinal =  count_vect2.transform(train['text'])\n",
    "xtestfinal =  count_vect2.transform(test['text'])"
   ]
  },
  {
   "cell_type": "code",
   "execution_count": 37,
   "metadata": {},
   "outputs": [],
   "source": [
    "rf=ensemble.RandomForestClassifier(n_estimators=1000).fit(xtrainfinal,train['label'])"
   ]
  },
  {
   "cell_type": "code",
   "execution_count": 38,
   "metadata": {},
   "outputs": [],
   "source": [
    "predictions2 = rf.predict(xtestfinal)"
   ]
  },
  {
   "cell_type": "code",
   "execution_count": 39,
   "metadata": {},
   "outputs": [],
   "source": [
    "submit2=pd.DataFrame()\n",
    "submit2['ID'] = test['id']\n",
    "submit2['Label'] = predictions2\n",
    "\n",
    "submit2.to_csv('4780RF.csv', index = False)"
   ]
  }
 ],
 "metadata": {
  "kernelspec": {
   "display_name": "Python 3",
   "language": "python",
   "name": "python3"
  },
  "language_info": {
   "codemirror_mode": {
    "name": "ipython",
    "version": 3
   },
   "file_extension": ".py",
   "mimetype": "text/x-python",
   "name": "python",
   "nbconvert_exporter": "python",
   "pygments_lexer": "ipython3",
   "version": "3.6.5"
  }
 },
 "nbformat": 4,
 "nbformat_minor": 2
}
